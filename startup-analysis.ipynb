{
 "cells": [
  {
   "cell_type": "code",
   "execution_count": null,
   "metadata": {
    "collapsed": true
   },
   "outputs": [],
   "source": []
  },
  {
   "cell_type": "code",
   "execution_count": 1,
   "metadata": {
    "collapsed": true
   },
   "outputs": [],
   "source": [
    "# Credit to CrunchBase, for their noble Open Data Map initiative!\n",
    "# read more about it here:\n",
    "# https://data.crunchbase.com/page/crunchbase-open-data-map-odm"
   ]
  },
  {
   "cell_type": "code",
   "execution_count": null,
   "metadata": {
    "collapsed": true
   },
   "outputs": [],
   "source": []
  },
  {
   "cell_type": "code",
   "execution_count": 2,
   "metadata": {
    "collapsed": false
   },
   "outputs": [
    {
     "name": "stderr",
     "output_type": "stream",
     "text": [
      "/usr/local/lib/python2.7/site-packages/matplotlib/__init__.py:872: UserWarning: axes.color_cycle is deprecated and replaced with axes.prop_cycle; please use the latter.\n",
      "  warnings.warn(self.msg_depr % (key, alt_key))\n"
     ]
    }
   ],
   "source": [
    "import pandas as pd\n",
    "import matplotlib.pyplot as plt\n",
    "import seaborn as sns\n",
    "%matplotlib inline"
   ]
  },
  {
   "cell_type": "code",
   "execution_count": 3,
   "metadata": {
    "collapsed": true
   },
   "outputs": [],
   "source": [
    "fpath = r'data/odm/organizations.csv'"
   ]
  },
  {
   "cell_type": "code",
   "execution_count": 4,
   "metadata": {
    "collapsed": true
   },
   "outputs": [],
   "source": [
    "df = pd.read_csv(fpath)"
   ]
  },
  {
   "cell_type": "code",
   "execution_count": 5,
   "metadata": {
    "collapsed": false
   },
   "outputs": [
    {
     "data": {
      "text/html": [
       "<div>\n",
       "<table border=\"1\" class=\"dataframe\">\n",
       "  <thead>\n",
       "    <tr style=\"text-align: right;\">\n",
       "      <th></th>\n",
       "      <th>crunchbase_uuid</th>\n",
       "      <th>type</th>\n",
       "      <th>primary_role</th>\n",
       "      <th>name</th>\n",
       "      <th>crunchbase_url</th>\n",
       "      <th>homepage_domain</th>\n",
       "      <th>homepage_url</th>\n",
       "      <th>profile_image_url</th>\n",
       "      <th>facebook_url</th>\n",
       "      <th>twitter_url</th>\n",
       "      <th>linkedin_url</th>\n",
       "      <th>stock_symbol</th>\n",
       "      <th>location_city</th>\n",
       "      <th>location_region</th>\n",
       "      <th>location_country_code</th>\n",
       "      <th>short_description</th>\n",
       "      <th>funding_round_name</th>\n",
       "    </tr>\n",
       "  </thead>\n",
       "  <tbody>\n",
       "    <tr>\n",
       "      <th>0</th>\n",
       "      <td>e1393508-30ea-8a36-3f96-dd3226033abd</td>\n",
       "      <td>Organization</td>\n",
       "      <td>company</td>\n",
       "      <td>Wetpaint</td>\n",
       "      <td>https://www.crunchbase.com/organization/wetpai...</td>\n",
       "      <td>wetpaint-inc.com</td>\n",
       "      <td>http://wetpaint-inc.com</td>\n",
       "      <td>https://www.crunchbase.com/organization/wetpai...</td>\n",
       "      <td>NaN</td>\n",
       "      <td>http://twitter.com/BachelrWetpaint</td>\n",
       "      <td>NaN</td>\n",
       "      <td>:</td>\n",
       "      <td>Seattle</td>\n",
       "      <td>Washington</td>\n",
       "      <td>USA</td>\n",
       "      <td>Wetpaint offers an online social publishing pl...</td>\n",
       "      <td>NaN</td>\n",
       "    </tr>\n",
       "    <tr>\n",
       "      <th>1</th>\n",
       "      <td>bf4d7b0e-b34d-2fd8-d292-6049c4f7efc7</td>\n",
       "      <td>Organization</td>\n",
       "      <td>company</td>\n",
       "      <td>Zoho</td>\n",
       "      <td>https://www.crunchbase.com/organization/zoho?u...</td>\n",
       "      <td>zoho.com</td>\n",
       "      <td>http://zoho.com</td>\n",
       "      <td>https://www.crunchbase.com/organization/zoho/p...</td>\n",
       "      <td>http://www.facebook.com/zoho</td>\n",
       "      <td>http://twitter.com/zoho</td>\n",
       "      <td>http://www.linkedin.com/company/zoho-corporati...</td>\n",
       "      <td>:</td>\n",
       "      <td>Pleasanton</td>\n",
       "      <td>California</td>\n",
       "      <td>USA</td>\n",
       "      <td>Zoho offers a suite of business, collaboration...</td>\n",
       "      <td>NaN</td>\n",
       "    </tr>\n",
       "    <tr>\n",
       "      <th>2</th>\n",
       "      <td>5f2b40b8-d1b3-d323-d81a-b7a8e89553d0</td>\n",
       "      <td>Organization</td>\n",
       "      <td>company</td>\n",
       "      <td>Digg</td>\n",
       "      <td>https://www.crunchbase.com/organization/digg?u...</td>\n",
       "      <td>digg.com</td>\n",
       "      <td>http://www.digg.com</td>\n",
       "      <td>https://www.crunchbase.com/organization/digg/p...</td>\n",
       "      <td>http://www.facebook.com/digg</td>\n",
       "      <td>http://twitter.com/digg</td>\n",
       "      <td>http://www.linkedin.com/company/digg</td>\n",
       "      <td>:</td>\n",
       "      <td>New York</td>\n",
       "      <td>New York</td>\n",
       "      <td>USA</td>\n",
       "      <td>Digg Inc. operates a website that enables its ...</td>\n",
       "      <td>NaN</td>\n",
       "    </tr>\n",
       "    <tr>\n",
       "      <th>3</th>\n",
       "      <td>f4d5ab44-058b-298b-ea81-380e6e9a8eec</td>\n",
       "      <td>Organization</td>\n",
       "      <td>investor</td>\n",
       "      <td>Omidyar Network</td>\n",
       "      <td>https://www.crunchbase.com/organization/omidya...</td>\n",
       "      <td>omidyar.com</td>\n",
       "      <td>http://www.omidyar.com</td>\n",
       "      <td>https://www.crunchbase.com/organization/omidya...</td>\n",
       "      <td>http://www.facebook.com/OmidyarNetwork</td>\n",
       "      <td>http://twitter.com/OmidyarNetwork</td>\n",
       "      <td>http://www.linkedin.com/company/22806</td>\n",
       "      <td>:</td>\n",
       "      <td>Redwood City</td>\n",
       "      <td>California</td>\n",
       "      <td>USA</td>\n",
       "      <td>Pierre Omidyar, the founder of eBay, and his w...</td>\n",
       "      <td>NaN</td>\n",
       "    </tr>\n",
       "    <tr>\n",
       "      <th>4</th>\n",
       "      <td>df662812-7f97-0b43-9d3e-12f64f504fbb</td>\n",
       "      <td>Organization</td>\n",
       "      <td>company</td>\n",
       "      <td>Facebook</td>\n",
       "      <td>https://www.crunchbase.com/organization/facebo...</td>\n",
       "      <td>facebook.com</td>\n",
       "      <td>http://www.facebook.com</td>\n",
       "      <td>https://www.crunchbase.com/organization/facebo...</td>\n",
       "      <td>https://www.facebook.com/</td>\n",
       "      <td>https://twitter.com/facebook</td>\n",
       "      <td>http://www.linkedin.com/company/facebook</td>\n",
       "      <td>NASDAQ:FB</td>\n",
       "      <td>Menlo Park</td>\n",
       "      <td>California</td>\n",
       "      <td>USA</td>\n",
       "      <td>Facebook is an online social networking servic...</td>\n",
       "      <td>NaN</td>\n",
       "    </tr>\n",
       "  </tbody>\n",
       "</table>\n",
       "</div>"
      ],
      "text/plain": [
       "                        crunchbase_uuid          type primary_role  \\\n",
       "0  e1393508-30ea-8a36-3f96-dd3226033abd  Organization      company   \n",
       "1  bf4d7b0e-b34d-2fd8-d292-6049c4f7efc7  Organization      company   \n",
       "2  5f2b40b8-d1b3-d323-d81a-b7a8e89553d0  Organization      company   \n",
       "3  f4d5ab44-058b-298b-ea81-380e6e9a8eec  Organization     investor   \n",
       "4  df662812-7f97-0b43-9d3e-12f64f504fbb  Organization      company   \n",
       "\n",
       "              name                                     crunchbase_url  \\\n",
       "0         Wetpaint  https://www.crunchbase.com/organization/wetpai...   \n",
       "1             Zoho  https://www.crunchbase.com/organization/zoho?u...   \n",
       "2             Digg  https://www.crunchbase.com/organization/digg?u...   \n",
       "3  Omidyar Network  https://www.crunchbase.com/organization/omidya...   \n",
       "4         Facebook  https://www.crunchbase.com/organization/facebo...   \n",
       "\n",
       "    homepage_domain             homepage_url  \\\n",
       "0  wetpaint-inc.com  http://wetpaint-inc.com   \n",
       "1          zoho.com          http://zoho.com   \n",
       "2          digg.com      http://www.digg.com   \n",
       "3       omidyar.com   http://www.omidyar.com   \n",
       "4      facebook.com  http://www.facebook.com   \n",
       "\n",
       "                                   profile_image_url  \\\n",
       "0  https://www.crunchbase.com/organization/wetpai...   \n",
       "1  https://www.crunchbase.com/organization/zoho/p...   \n",
       "2  https://www.crunchbase.com/organization/digg/p...   \n",
       "3  https://www.crunchbase.com/organization/omidya...   \n",
       "4  https://www.crunchbase.com/organization/facebo...   \n",
       "\n",
       "                             facebook_url                         twitter_url  \\\n",
       "0                                     NaN  http://twitter.com/BachelrWetpaint   \n",
       "1            http://www.facebook.com/zoho             http://twitter.com/zoho   \n",
       "2            http://www.facebook.com/digg             http://twitter.com/digg   \n",
       "3  http://www.facebook.com/OmidyarNetwork   http://twitter.com/OmidyarNetwork   \n",
       "4               https://www.facebook.com/        https://twitter.com/facebook   \n",
       "\n",
       "                                        linkedin_url stock_symbol  \\\n",
       "0                                                NaN            :   \n",
       "1  http://www.linkedin.com/company/zoho-corporati...            :   \n",
       "2               http://www.linkedin.com/company/digg            :   \n",
       "3              http://www.linkedin.com/company/22806            :   \n",
       "4           http://www.linkedin.com/company/facebook    NASDAQ:FB   \n",
       "\n",
       "  location_city location_region location_country_code  \\\n",
       "0       Seattle      Washington                   USA   \n",
       "1    Pleasanton      California                   USA   \n",
       "2      New York        New York                   USA   \n",
       "3  Redwood City      California                   USA   \n",
       "4    Menlo Park      California                   USA   \n",
       "\n",
       "                                   short_description  funding_round_name  \n",
       "0  Wetpaint offers an online social publishing pl...                 NaN  \n",
       "1  Zoho offers a suite of business, collaboration...                 NaN  \n",
       "2  Digg Inc. operates a website that enables its ...                 NaN  \n",
       "3  Pierre Omidyar, the founder of eBay, and his w...                 NaN  \n",
       "4  Facebook is an online social networking servic...                 NaN  "
      ]
     },
     "execution_count": 5,
     "metadata": {},
     "output_type": "execute_result"
    }
   ],
   "source": [
    "df.head()"
   ]
  },
  {
   "cell_type": "code",
   "execution_count": 6,
   "metadata": {
    "collapsed": false
   },
   "outputs": [
    {
     "data": {
      "text/plain": [
       "19"
      ]
     },
     "execution_count": 6,
     "metadata": {},
     "output_type": "execute_result"
    }
   ],
   "source": [
    "len(df[pd.isnull(df['name'])])"
   ]
  },
  {
   "cell_type": "code",
   "execution_count": 7,
   "metadata": {
    "collapsed": true
   },
   "outputs": [],
   "source": [
    "df = df[pd.notnull(df['name'])]"
   ]
  },
  {
   "cell_type": "code",
   "execution_count": null,
   "metadata": {
    "collapsed": true
   },
   "outputs": [],
   "source": []
  },
  {
   "cell_type": "code",
   "execution_count": 8,
   "metadata": {
    "collapsed": true
   },
   "outputs": [],
   "source": [
    "# first question I wanted to find an answer to is the beginning letter of companies. Is there an even distribution?\n",
    "# how about first 2, 3, 4 letters? are there shared patterns?"
   ]
  },
  {
   "cell_type": "code",
   "execution_count": 9,
   "metadata": {
    "collapsed": false
   },
   "outputs": [],
   "source": [
    "first_letters = [x.decode('utf8')[0].lower().encode('utf8') for x in df['name']]\n",
    "d_counts = {}\n",
    "for x in first_letters:\n",
    "    if x not in d_counts:\n",
    "        d_counts[x] = 0\n",
    "    d_counts[x] += 1"
   ]
  },
  {
   "cell_type": "code",
   "execution_count": 10,
   "metadata": {
    "collapsed": false
   },
   "outputs": [],
   "source": [
    "df_letters = pd.DataFrame.from_dict(d_counts, orient='index')\n",
    "df_letters.columns = ['frequency']\n",
    "df_letters.sort_index(inplace=True)"
   ]
  },
  {
   "cell_type": "code",
   "execution_count": 11,
   "metadata": {
    "collapsed": false
   },
   "outputs": [
    {
     "data": {
      "text/plain": [
       "<matplotlib.axes._subplots.AxesSubplot at 0x1251b5d10>"
      ]
     },
     "execution_count": 11,
     "metadata": {},
     "output_type": "execute_result"
    },
    {
     "data": {
      "image/png": "[encoded data removed]",
      "text/plain": [
       "<matplotlib.figure.Figure at 0x10c79ee90>"
      ]
     },
     "metadata": {},
     "output_type": "display_data"
    }
   ],
   "source": [
    "df_letters.plot(kind='barh', figsize=(15,18), color='darkgreen')"
   ]
  },
  {
   "cell_type": "code",
   "execution_count": null,
   "metadata": {
    "collapsed": true
   },
   "outputs": [],
   "source": []
  },
  {
   "cell_type": "code",
   "execution_count": null,
   "metadata": {
    "collapsed": true
   },
   "outputs": [],
   "source": []
  },
  {
   "cell_type": "markdown",
   "metadata": {},
   "source": [
    "<h1>LDA analysis on Company Descriptions</h1>"
   ]
  },
  {
   "cell_type": "code",
   "execution_count": 28,
   "metadata": {
    "collapsed": false
   },
   "outputs": [],
   "source": [
    "from gensim import corpora, models\n",
    "from gensim.models.ldamodel import LdaModel\n",
    "import pyLDAvis.gensim\n",
    "\n",
    "from nltk import sent_tokenize, word_tokenize\n",
    "import nltk"
   ]
  },
  {
   "cell_type": "code",
   "execution_count": 13,
   "metadata": {
    "collapsed": false
   },
   "outputs": [],
   "source": [
    "# import re\n",
    "# import ftfy"
   ]
  },
  {
   "cell_type": "code",
   "execution_count": 14,
   "metadata": {
    "collapsed": false
   },
   "outputs": [],
   "source": [
    "descriptions = df[pd.notnull(df['short_description'])]['short_description']"
   ]
  },
  {
   "cell_type": "code",
   "execution_count": 15,
   "metadata": {
    "collapsed": true
   },
   "outputs": [],
   "source": [
    "documents = []\n",
    "for s in descriptions:\n",
    "    documents.append([w.lower() for w in word_tokenize(s.decode('utf8'))])"
   ]
  },
  {
   "cell_type": "code",
   "execution_count": 16,
   "metadata": {
    "collapsed": true
   },
   "outputs": [],
   "source": [
    "unigrams = [ w for doc in documents for w in doc if len(w)==1]\n",
    "bigrams  = [ w for doc in documents for w in doc if len(w)==2]"
   ]
  },
  {
   "cell_type": "code",
   "execution_count": 17,
   "metadata": {
    "collapsed": false
   },
   "outputs": [],
   "source": [
    "stoplist  = set(nltk.corpus.stopwords.words(\"english\") + unigrams + bigrams)"
   ]
  },
  {
   "cell_type": "code",
   "execution_count": 18,
   "metadata": {
    "collapsed": true
   },
   "outputs": [],
   "source": [
    "# strip out stopwords\n",
    "documents = [[token for token in doc if token not in stoplist]\n",
    "                for doc in documents]"
   ]
  },
  {
   "cell_type": "code",
   "execution_count": 19,
   "metadata": {
    "collapsed": true
   },
   "outputs": [],
   "source": [
    "from collections import defaultdict\n",
    "# Remove words that only occur once\n",
    "token_frequency = defaultdict(int)"
   ]
  },
  {
   "cell_type": "code",
   "execution_count": 20,
   "metadata": {
    "collapsed": true
   },
   "outputs": [],
   "source": [
    "# count all token\n",
    "for doc in documents:\n",
    "    for token in doc:\n",
    "        token_frequency[token] += 1"
   ]
  },
  {
   "cell_type": "code",
   "execution_count": 21,
   "metadata": {
    "collapsed": true
   },
   "outputs": [],
   "source": [
    "# keep words that occur more than once\n",
    "documents = [ [token for token in doc if token_frequency[token] > 1]\n",
    "                for doc in documents  ]"
   ]
  },
  {
   "cell_type": "code",
   "execution_count": 22,
   "metadata": {
    "collapsed": true
   },
   "outputs": [],
   "source": [
    "# Sort words in documents\n",
    "for doc in documents:\n",
    "    doc.sort()"
   ]
  },
  {
   "cell_type": "code",
   "execution_count": 23,
   "metadata": {
    "collapsed": false
   },
   "outputs": [],
   "source": [
    "# Build a dictionary where for each document each word has its own id\n",
    "dictionary = corpora.Dictionary(documents)\n",
    "dictionary.compactify()"
   ]
  },
  {
   "cell_type": "code",
   "execution_count": 24,
   "metadata": {
    "collapsed": true
   },
   "outputs": [],
   "source": [
    "# and save the dictionary for future use\n",
    "dictionary.save('ODM_descriptions.dict')"
   ]
  },
  {
   "cell_type": "code",
   "execution_count": 25,
   "metadata": {
    "collapsed": false
   },
   "outputs": [
    {
     "name": "stdout",
     "output_type": "stream",
     "text": [
      "Dictionary(46746 unique tokens: [u'nordisk', u'conent', u'1,800', u'localizes', u'woods']...)\n"
     ]
    }
   ],
   "source": [
    "print(dictionary)"
   ]
  },
  {
   "cell_type": "code",
   "execution_count": 26,
   "metadata": {
    "collapsed": true
   },
   "outputs": [],
   "source": [
    "# Build the corpus: vectors with occurence of each word for each document\n",
    "# convert tokenized documents to vectors\n",
    "corpus = [dictionary.doc2bow(doc) for doc in documents]\n",
    "# ldacorpus = [dictionary.doc2bow(text) for text in corpus]\n",
    "\n",
    "# and save in Market Matrix format\n",
    "corpora.MmCorpus.serialize('CSR_corpus.mm', corpus)\n",
    "# this corpus can be loaded with corpus = corpora.MmCorpus('alexip_followers.mm')"
   ]
  },
  {
   "cell_type": "code",
   "execution_count": 29,
   "metadata": {
    "collapsed": false
   },
   "outputs": [],
   "source": [
    "lda = LdaModel(corpus=corpus, id2word=dictionary, num_topics=30, update_every=1, chunksize=10000, passes=10)"
   ]
  },
  {
   "cell_type": "code",
   "execution_count": 30,
   "metadata": {
    "collapsed": false
   },
   "outputs": [
    {
     "data": {
      "text/plain": [
       "[(15,\n",
       "  u'0.042*search + 0.028*every + 0.026*right + 0.025*retail + 0.022*engine + 0.019*day + 0.018*children + 0.017*take + 0.012*visual + 0.011*hotel'),\n",
       " (20,\n",
       "  u'0.051*news + 0.046*community + 0.046*network + 0.035*information + 0.024*social + 0.024*local + 0.022*food + 0.016*latest + 0.015*women + 0.014*ideas'),\n",
       " (4,\n",
       "  u'0.058*energy + 0.039*commercial + 0.037*power + 0.025*projects + 0.020*printing + 0.018*residential + 0.016*solar + 0.015*restaurant + 0.015*government + 0.014*areas'),\n",
       " (8,\n",
       "  u'0.047*experience + 0.042*startup + 0.037*organization + 0.028*door + 0.027*years + 0.024*source + 0.020*open + 0.020*working + 0.018*creative + 0.018*non-profit'),\n",
       " (14,\n",
       "  u'0.035*number + 0.035*users + 0.034*people + 0.027*way + 0.026*find + 0.023*create + 0.022*time + 0.022*share + 0.021*music + 0.019*enables'),\n",
       " (18,\n",
       "  u'0.140*development + 0.116*web + 0.106*design + 0.053*company + 0.051*real + 0.037*product + 0.037*estate + 0.025*custom + 0.024*website + 0.019*studio'),\n",
       " (21,\n",
       "  u'0.043*help + 0.032*businesses + 0.027*business + 0.025*customer + 0.024*small + 0.021*helps + 0.017*work + 0.017*build + 0.016*mission + 0.016*better'),\n",
       " (28,\n",
       "  u'0.053*financial + 0.033*school + 0.027*engineering + 0.024*insurance + 0.021*corporate + 0.019*serving + 0.018*committed + 0.017*college + 0.016*bank + 0.014*opportunities'),\n",
       " (16,\n",
       "  u'0.112*marketing + 0.109*digital + 0.061*agency + 0.046*internet + 0.045*content + 0.029*media + 0.025*advertising + 0.025*entertainment + 0.023*company + 0.020*interactive'),\n",
       " (19,\n",
       "  u'0.045*university + 0.034*property + 0.033*consultancy + 0.030*specialized + 0.021*automation + 0.020*south + 0.019*equipment + 0.016*sale + 0.015*auto + 0.015*society')]"
      ]
     },
     "execution_count": 30,
     "metadata": {},
     "output_type": "execute_result"
    }
   ],
   "source": [
    "lda.print_topics(10)"
   ]
  },
  {
   "cell_type": "code",
   "execution_count": 31,
   "metadata": {
    "collapsed": false,
    "scrolled": true
   },
   "outputs": [
    {
     "data": {
      "text/plain": [
       "[(19,\n",
       "  [(u'university', 0.045289705775446283),\n",
       "   (u'property', 0.034056780212279418),\n",
       "   (u'consultancy', 0.032847600707313504),\n",
       "   (u'specialized', 0.029750922934444188),\n",
       "   (u'automation', 0.020651427273521848),\n",
       "   (u'south', 0.02043503695991896),\n",
       "   (u'equipment', 0.019098535027003736),\n",
       "   (u'sale', 0.01562365840525724),\n",
       "   (u'auto', 0.014939114438478927),\n",
       "   (u'society', 0.01465008092708456)]),\n",
       " (6,\n",
       "  [(u'solutions', 0.085274493813417604),\n",
       "   (u'data', 0.062196406975412226),\n",
       "   (u'provides', 0.031033553458936915),\n",
       "   (u'cloud', 0.028802149499810383),\n",
       "   (u'analytics', 0.021881936614525099),\n",
       "   (u'provider', 0.01799410656072124),\n",
       "   (u'platform', 0.017950027261509637),\n",
       "   (u'call', 0.01660360199163544),\n",
       "   (u'performance', 0.016448354479619367),\n",
       "   (u'communication', 0.015050883215914175)]),\n",
       " (26,\n",
       "  [(u'online', 0.16923375431767942),\n",
       "   (u'free', 0.046402759457498825),\n",
       "   (u'platform', 0.046360577094593),\n",
       "   (u'marketplace', 0.038416246260449163),\n",
       "   (u'travel', 0.028036491137846106),\n",
       "   (u'store', 0.025213319316431747),\n",
       "   (u'learning', 0.023721049741937443),\n",
       "   (u'tool', 0.018985801598338979),\n",
       "   (u'students', 0.017457657338258364),\n",
       "   (u'without', 0.010622271309682581)]),\n",
       " (16,\n",
       "  [(u'marketing', 0.11201626933325545),\n",
       "   (u'digital', 0.10928064604940903),\n",
       "   (u'agency', 0.060510417527265839),\n",
       "   (u'internet', 0.046075768965148638),\n",
       "   (u'content', 0.045017270506077768),\n",
       "   (u'media', 0.029323929395220341),\n",
       "   (u'advertising', 0.025090685013194763),\n",
       "   (u'entertainment', 0.025008572907410039),\n",
       "   (u'company', 0.022846812240256548),\n",
       "   (u'interactive', 0.020106399134978501)]),\n",
       " (24,\n",
       "  [(u'india', 0.05265458677879957),\n",
       "   (u'repair', 0.035864011747401232),\n",
       "   (u'founded', 0.026956147340431027),\n",
       "   (u'shop', 0.020369760341057884),\n",
       "   (u'association', 0.018266014278672773),\n",
       "   (u'institute', 0.018115980992208621),\n",
       "   (u'fashion', 0.018061470144142239),\n",
       "   (u'accessories', 0.016676670760825338),\n",
       "   (u'american', 0.015121172347901352),\n",
       "   (u'based', 0.014996407792415857)]),\n",
       " (0,\n",
       "  [(u'social', 0.096445594057964198),\n",
       "   (u'media', 0.073691785139948104),\n",
       "   (u'innovation', 0.041846488895414653),\n",
       "   (u'brand', 0.03851272195101739),\n",
       "   (u'public', 0.034825726080879638),\n",
       "   (u'car', 0.031564601548749058),\n",
       "   (u'united', 0.019889836606141832),\n",
       "   (u'new', 0.019015904074959556),\n",
       "   (u'job', 0.018870974546062153),\n",
       "   (u'strategy', 0.016371539340400986)]),\n",
       " (4,\n",
       "  [(u'energy', 0.057577788719291055),\n",
       "   (u'commercial', 0.03891131433214147),\n",
       "   (u'power', 0.036695378910202928),\n",
       "   (u'projects', 0.025144604630960798),\n",
       "   (u'printing', 0.020389304309453984),\n",
       "   (u'residential', 0.018056593453196539),\n",
       "   (u'solar', 0.015782809279368062),\n",
       "   (u'restaurant', 0.015153374160569147),\n",
       "   (u'government', 0.014922558594478236),\n",
       "   (u'areas', 0.014379119348105618)]),\n",
       " (2,\n",
       "  [(u'service', 0.19224857503086223),\n",
       "   (u'personal', 0.038184020666380533),\n",
       "   (u'full', 0.032012473840041564),\n",
       "   (u'generation', 0.023877416790436288),\n",
       "   (u'next', 0.023466350595682316),\n",
       "   (u'australia', 0.013215211373433539),\n",
       "   (u'natural', 0.012343192303208229),\n",
       "   (u'finance', 0.011350108161451966),\n",
       "   (u'demand', 0.011330091445799533),\n",
       "   (u'tracking', 0.010937848789332214)]),\n",
       " (15,\n",
       "  [(u'search', 0.04223465164015338),\n",
       "   (u'every', 0.028307620739520603),\n",
       "   (u'right', 0.026121471293391485),\n",
       "   (u'retail', 0.025236365978251449),\n",
       "   (u'engine', 0.021656234272903988),\n",
       "   (u'day', 0.018538970453085748),\n",
       "   (u'children', 0.017952815322311043),\n",
       "   (u'take', 0.016517325547937053),\n",
       "   (u'visual', 0.012226458495210681),\n",
       "   (u'hotel', 0.011399907203343052)]),\n",
       " (11,\n",
       "  [(u'company', 0.054666081761231812),\n",
       "   (u'technology', 0.051098483660132005),\n",
       "   (u'products', 0.050218775479691453),\n",
       "   (u'innovative', 0.043823544906290701),\n",
       "   (u'technologies', 0.030800605566537877),\n",
       "   (u'inc.', 0.030031347462429338),\n",
       "   (u'medical', 0.029277329828806799),\n",
       "   (u'systems', 0.02621170488726305),\n",
       "   (u'developing', 0.025232401798123791),\n",
       "   (u'develops', 0.021631852535280507)])]"
      ]
     },
     "execution_count": 31,
     "metadata": {},
     "output_type": "execute_result"
    }
   ],
   "source": [
    "lda.show_topics(num_topics=10, num_words=10, formatted=False)"
   ]
  },
  {
   "cell_type": "code",
   "execution_count": 32,
   "metadata": {
    "collapsed": false
   },
   "outputs": [
    {
     "ename": "AttributeError",
     "evalue": "'OrdinationResults' object has no attribute 'scores'",
     "output_type": "error",
     "traceback": [
      "\u001b[0;31m---------------------------------------------------------------------------\u001b[0m",
      "\u001b[0;31mAttributeError\u001b[0m                            Traceback (most recent call last)",
      "\u001b[0;32m<ipython-input-32-495ff5229a96>\u001b[0m in \u001b[0;36m<module>\u001b[0;34m()\u001b[0m\n\u001b[0;32m----> 1\u001b[0;31m \u001b[0mpyLDAvis_data\u001b[0m \u001b[0;34m=\u001b[0m \u001b[0mpyLDAvis\u001b[0m\u001b[0;34m.\u001b[0m\u001b[0mgensim\u001b[0m\u001b[0;34m.\u001b[0m\u001b[0mprepare\u001b[0m\u001b[0;34m(\u001b[0m\u001b[0mlda\u001b[0m\u001b[0;34m,\u001b[0m \u001b[0mcorpus\u001b[0m\u001b[0;34m,\u001b[0m \u001b[0mdictionary\u001b[0m\u001b[0;34m)\u001b[0m\u001b[0;34m\u001b[0m\u001b[0m\n\u001b[0m\u001b[1;32m      2\u001b[0m \u001b[0mpyLDAvis\u001b[0m\u001b[0;34m.\u001b[0m\u001b[0mdisplay\u001b[0m\u001b[0;34m(\u001b[0m\u001b[0mpyLDAvis_data\u001b[0m\u001b[0;34m)\u001b[0m\u001b[0;34m\u001b[0m\u001b[0m\n",
      "\u001b[0;32m/usr/local/lib/python2.7/site-packages/pyLDAvis/gensim.pyc\u001b[0m in \u001b[0;36mprepare\u001b[0;34m(topic_model, corpus, dictionary, doc_topic_dist, **kwargs)\u001b[0m\n\u001b[1;32m     96\u001b[0m     \"\"\"\n\u001b[1;32m     97\u001b[0m     \u001b[0mopts\u001b[0m \u001b[0;34m=\u001b[0m \u001b[0mfp\u001b[0m\u001b[0;34m.\u001b[0m\u001b[0mmerge\u001b[0m\u001b[0;34m(\u001b[0m\u001b[0m_extract_data\u001b[0m\u001b[0;34m(\u001b[0m\u001b[0mtopic_model\u001b[0m\u001b[0;34m,\u001b[0m \u001b[0mcorpus\u001b[0m\u001b[0;34m,\u001b[0m \u001b[0mdictionary\u001b[0m\u001b[0;34m,\u001b[0m \u001b[0mdoc_topic_dist\u001b[0m\u001b[0;34m)\u001b[0m\u001b[0;34m,\u001b[0m \u001b[0mkwargs\u001b[0m\u001b[0;34m)\u001b[0m\u001b[0;34m\u001b[0m\u001b[0m\n\u001b[0;32m---> 98\u001b[0;31m     \u001b[0;32mreturn\u001b[0m \u001b[0mvis_prepare\u001b[0m\u001b[0;34m(\u001b[0m\u001b[0;34m**\u001b[0m\u001b[0mopts\u001b[0m\u001b[0;34m)\u001b[0m\u001b[0;34m\u001b[0m\u001b[0m\n\u001b[0m",
      "\u001b[0;32m/usr/local/lib/python2.7/site-packages/pyLDAvis/_prepare.pyc\u001b[0m in \u001b[0;36mprepare\u001b[0;34m(topic_term_dists, doc_topic_dists, doc_lengths, vocab, term_frequency, R, lambda_step, mds, n_jobs, plot_opts)\u001b[0m\n\u001b[1;32m    293\u001b[0m    \u001b[0mtopic_info\u001b[0m         \u001b[0;34m=\u001b[0m \u001b[0m_topic_info\u001b[0m\u001b[0;34m(\u001b[0m\u001b[0mtopic_term_dists\u001b[0m\u001b[0;34m,\u001b[0m \u001b[0mtopic_proportion\u001b[0m\u001b[0;34m,\u001b[0m \u001b[0mterm_frequency\u001b[0m\u001b[0;34m,\u001b[0m \u001b[0mterm_topic_freq\u001b[0m\u001b[0;34m,\u001b[0m \u001b[0mvocab\u001b[0m\u001b[0;34m,\u001b[0m \u001b[0mlambda_step\u001b[0m\u001b[0;34m,\u001b[0m \u001b[0mR\u001b[0m\u001b[0;34m,\u001b[0m \u001b[0mn_jobs\u001b[0m\u001b[0;34m)\u001b[0m\u001b[0;34m\u001b[0m\u001b[0m\n\u001b[1;32m    294\u001b[0m    \u001b[0mtoken_table\u001b[0m        \u001b[0;34m=\u001b[0m \u001b[0m_token_table\u001b[0m\u001b[0;34m(\u001b[0m\u001b[0mtopic_info\u001b[0m\u001b[0;34m,\u001b[0m \u001b[0mterm_topic_freq\u001b[0m\u001b[0;34m,\u001b[0m \u001b[0mvocab\u001b[0m\u001b[0;34m,\u001b[0m \u001b[0mterm_frequency\u001b[0m\u001b[0;34m)\u001b[0m\u001b[0;34m\u001b[0m\u001b[0m\n\u001b[0;32m--> 295\u001b[0;31m    \u001b[0mtopic_coordinates\u001b[0m \u001b[0;34m=\u001b[0m \u001b[0m_topic_coordinates\u001b[0m\u001b[0;34m(\u001b[0m\u001b[0mmds\u001b[0m\u001b[0;34m,\u001b[0m \u001b[0mtopic_term_dists\u001b[0m\u001b[0;34m,\u001b[0m \u001b[0mtopic_proportion\u001b[0m\u001b[0;34m)\u001b[0m\u001b[0;34m\u001b[0m\u001b[0m\n\u001b[0m\u001b[1;32m    296\u001b[0m    \u001b[0mclient_topic_order\u001b[0m \u001b[0;34m=\u001b[0m \u001b[0;34m[\u001b[0m\u001b[0mx\u001b[0m \u001b[0;34m+\u001b[0m \u001b[0;36m1\u001b[0m \u001b[0;32mfor\u001b[0m \u001b[0mx\u001b[0m \u001b[0;32min\u001b[0m \u001b[0mtopic_order\u001b[0m\u001b[0;34m]\u001b[0m\u001b[0;34m\u001b[0m\u001b[0m\n\u001b[1;32m    297\u001b[0m \u001b[0;34m\u001b[0m\u001b[0m\n",
      "\u001b[0;32m/usr/local/lib/python2.7/site-packages/pyLDAvis/_prepare.pyc\u001b[0m in \u001b[0;36m_topic_coordinates\u001b[0;34m(mds, topic_term_dists, topic_proportion)\u001b[0m\n\u001b[1;32m    104\u001b[0m \u001b[0;32mdef\u001b[0m \u001b[0m_topic_coordinates\u001b[0m\u001b[0;34m(\u001b[0m\u001b[0mmds\u001b[0m\u001b[0;34m,\u001b[0m \u001b[0mtopic_term_dists\u001b[0m\u001b[0;34m,\u001b[0m \u001b[0mtopic_proportion\u001b[0m\u001b[0;34m)\u001b[0m\u001b[0;34m:\u001b[0m\u001b[0;34m\u001b[0m\u001b[0m\n\u001b[1;32m    105\u001b[0m    \u001b[0mK\u001b[0m \u001b[0;34m=\u001b[0m \u001b[0mtopic_term_dists\u001b[0m\u001b[0;34m.\u001b[0m\u001b[0mshape\u001b[0m\u001b[0;34m[\u001b[0m\u001b[0;36m0\u001b[0m\u001b[0;34m]\u001b[0m\u001b[0;34m\u001b[0m\u001b[0m\n\u001b[0;32m--> 106\u001b[0;31m    \u001b[0mmds_res\u001b[0m \u001b[0;34m=\u001b[0m \u001b[0mmds\u001b[0m\u001b[0;34m(\u001b[0m\u001b[0mtopic_term_dists\u001b[0m\u001b[0;34m)\u001b[0m\u001b[0;34m\u001b[0m\u001b[0m\n\u001b[0m\u001b[1;32m    107\u001b[0m    \u001b[0;32massert\u001b[0m \u001b[0mmds_res\u001b[0m\u001b[0;34m.\u001b[0m\u001b[0mshape\u001b[0m \u001b[0;34m==\u001b[0m \u001b[0;34m(\u001b[0m\u001b[0mK\u001b[0m\u001b[0;34m,\u001b[0m \u001b[0;36m2\u001b[0m\u001b[0;34m)\u001b[0m\u001b[0;34m\u001b[0m\u001b[0m\n\u001b[1;32m    108\u001b[0m    mds_df = pd.DataFrame({'x': mds_res[:,0], 'y': mds_res[:,1], 'topics': range(1, K + 1), \\\n",
      "\u001b[0;32m/usr/local/lib/python2.7/site-packages/pyLDAvis/_prepare.pyc\u001b[0m in \u001b[0;36mjs_PCoA\u001b[0;34m(distributions)\u001b[0m\n\u001b[1;32m     78\u001b[0m    \"\"\"\n\u001b[1;32m     79\u001b[0m    \u001b[0mdist_matrix\u001b[0m \u001b[0;34m=\u001b[0m \u001b[0mDistanceMatrix\u001b[0m\u001b[0;34m(\u001b[0m\u001b[0mdist\u001b[0m\u001b[0;34m.\u001b[0m\u001b[0msquareform\u001b[0m\u001b[0;34m(\u001b[0m\u001b[0mdist\u001b[0m\u001b[0;34m.\u001b[0m\u001b[0mpdist\u001b[0m\u001b[0;34m(\u001b[0m\u001b[0mdistributions\u001b[0m\u001b[0;34m.\u001b[0m\u001b[0mvalues\u001b[0m\u001b[0;34m,\u001b[0m \u001b[0m_jensen_shannon\u001b[0m\u001b[0;34m)\u001b[0m\u001b[0;34m)\u001b[0m\u001b[0;34m)\u001b[0m\u001b[0;34m\u001b[0m\u001b[0m\n\u001b[0;32m---> 80\u001b[0;31m    \u001b[0mp\u001b[0m \u001b[0;34m=\u001b[0m \u001b[0mpcoa\u001b[0m\u001b[0;34m(\u001b[0m\u001b[0mdist_matrix\u001b[0m\u001b[0;34m)\u001b[0m\u001b[0;34m.\u001b[0m\u001b[0mscores\u001b[0m\u001b[0;34m(\u001b[0m\u001b[0;34m)\u001b[0m\u001b[0;34m\u001b[0m\u001b[0m\n\u001b[0m\u001b[1;32m     81\u001b[0m    \u001b[0;32mreturn\u001b[0m \u001b[0mp\u001b[0m\u001b[0;34m.\u001b[0m\u001b[0msite\u001b[0m\u001b[0;34m[\u001b[0m\u001b[0;34m:\u001b[0m\u001b[0;34m,\u001b[0m\u001b[0;36m0\u001b[0m\u001b[0;34m:\u001b[0m\u001b[0;36m2\u001b[0m\u001b[0;34m]\u001b[0m\u001b[0;34m\u001b[0m\u001b[0m\n\u001b[1;32m     82\u001b[0m \u001b[0;34m\u001b[0m\u001b[0m\n",
      "\u001b[0;31mAttributeError\u001b[0m: 'OrdinationResults' object has no attribute 'scores'"
     ]
    }
   ],
   "source": [
    "pyLDAvis_data = pyLDAvis.gensim.prepare(lda, corpus, dictionary)\n",
    "pyLDAvis.display(pyLDAvis_data)"
   ]
  },
  {
   "cell_type": "code",
   "execution_count": null,
   "metadata": {
    "collapsed": true
   },
   "outputs": [],
   "source": []
  },
  {
   "cell_type": "code",
   "execution_count": null,
   "metadata": {
    "collapsed": true
   },
   "outputs": [],
   "source": []
  },
  {
   "cell_type": "code",
   "execution_count": null,
   "metadata": {
    "collapsed": true
   },
   "outputs": [],
   "source": []
  },
  {
   "cell_type": "code",
   "execution_count": null,
   "metadata": {
    "collapsed": true
   },
   "outputs": [],
   "source": [
    "# TODO:\n",
    "# - map out locations of startups\n",
    "# - nlp on short_description for fun\n",
    "# - distributino of facebook, twitter, linkedin links, publicly traded etc."
   ]
  }
 ],
 "metadata": {
  "kernelspec": {
   "display_name": "Python 2",
   "language": "python2",
   "name": "python2"
  },
  "language_info": {
   "codemirror_mode": {
    "name": "ipython",
    "version": 2
   },
   "file_extension": ".py",
   "mimetype": "text/x-python",
   "name": "python",
   "nbconvert_exporter": "python",
   "pygments_lexer": "ipython2",
   "version": "2.7.8"
  }
 },
 "nbformat": 4,
 "nbformat_minor": 0
}
